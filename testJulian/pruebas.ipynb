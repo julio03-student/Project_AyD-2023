{
 "cells": [
  {
   "cell_type": "code",
   "execution_count": 56,
   "metadata": {},
   "outputs": [
    {
     "data": {
      "text/plain": [
       "['',\n",
       " [0, 0, 0],\n",
       " [1, 0, 0],\n",
       " [0, 1, 0],\n",
       " [1, 1, 0],\n",
       " [0, 0, 1],\n",
       " [1, 0, 1],\n",
       " [0, 1, 1],\n",
       " [1, 1, 1]]"
      ]
     },
     "execution_count": 56,
     "metadata": {},
     "output_type": "execute_result"
    }
   ],
   "source": [
    "lista = ['']\n",
    "estados = [\n",
    "    [0,0,0],\n",
    "    [1,0,0],\n",
    "    [0,1,0],\n",
    "    [1,1,0],\n",
    "    [0,0,1],\n",
    "    [1,0,1],\n",
    "    [0,1,1],\n",
    "    [1,1,1]\n",
    "    ]\n",
    "for x in estados:\n",
    "    lista.append(x)\n",
    "\n",
    "lista"
   ]
  },
  {
   "cell_type": "code",
   "execution_count": 57,
   "metadata": {},
   "outputs": [
    {
     "data": {
      "text/plain": [
       "[[[0, 0, 0], 0.0, 0.17, 0.0, 0.06, 0.0, 0.0, 0.06, 0.72],\n",
       " [[1, 0, 0], 0.12, 0.15, 0.02, 0.07, 0.0, 0.02, 0.51, 0.1],\n",
       " [[0, 1, 0], 0.0, 0.08, 0.02, 0.06, 0.02, 0.8, 0.02, 0.0],\n",
       " [[1, 1, 0], 0.07, 0.14, 0.58, 0.14, 0.0, 0.05, 0.0, 0.02],\n",
       " [[0, 0, 1], 0.19, 0.21, 0.0, 0.52, 0.0, 0.08, 0.0, 0.0],\n",
       " [[1, 0, 1], 0.0, 0.0, 0.08, 0.04, 0.87, 0.02, 0.0, 0.0],\n",
       " [[0, 1, 1], 0.04, 0.0, 0.72, 0.0, 0.0, 0.12, 0.04, 0.08],\n",
       " [[1, 1, 1], 0.0, 0.52, 0.0, 0.09, 0.13, 0.09, 0.04, 0.13]]"
      ]
     },
     "execution_count": 57,
     "metadata": {},
     "output_type": "execute_result"
    }
   ],
   "source": [
    "matriz_estados = [\n",
    "    [[0, 0, 0], 0.0, 0.17, 0.0, 0.06, 0.0, 0.0, 0.06, 0.72],\n",
    "    [[1, 0, 0], 0.12, 0.15, 0.02, 0.07, 0.0, 0.02, 0.51, 0.1],\n",
    "    [[0, 1, 0], 0.0, 0.08, 0.02, 0.06, 0.02, 0.8, 0.02, 0.0], \n",
    "    [[1, 1, 0], 0.07, 0.14, 0.58, 0.14, 0.0, 0.05, 0.0, 0.02], \n",
    "    [[0, 0, 1], 0.19, 0.21, 0.0, 0.52, 0.0, 0.08, 0.0, 0.0], \n",
    "    [[1, 0, 1], 0.0, 0.0, 0.08, 0.04, 0.87, 0.02, 0.0, 0.0], \n",
    "    [[0, 1, 1], 0.04, 0.0, 0.72, 0.0, 0.0, 0.12, 0.04, 0.08], \n",
    "    [[1, 1, 1], 0.0, 0.52, 0.0, 0.09, 0.13, 0.09, 0.04, 0.13]]\n",
    "matriz_estados"
   ]
  },
  {
   "cell_type": "code",
   "execution_count": 58,
   "metadata": {},
   "outputs": [],
   "source": [
    "matriz_estados.insert(0, lista)\n"
   ]
  },
  {
   "cell_type": "code",
   "execution_count": 59,
   "metadata": {},
   "outputs": [
    {
     "name": "stdout",
     "output_type": "stream",
     "text": [
      "[['', [0, 0, 0], [1, 0, 0], [0, 1, 0], [1, 1, 0], [0, 0, 1], [1, 0, 1], [0, 1, 1], [1, 1, 1]], [[0, 0, 0], 0.0, 0.17, 0.0, 0.06, 0.0, 0.0, 0.06, 0.72], [[1, 0, 0], 0.12, 0.15, 0.02, 0.07, 0.0, 0.02, 0.51, 0.1], [[0, 1, 0], 0.0, 0.08, 0.02, 0.06, 0.02, 0.8, 0.02, 0.0], [[1, 1, 0], 0.07, 0.14, 0.58, 0.14, 0.0, 0.05, 0.0, 0.02], [[0, 0, 1], 0.19, 0.21, 0.0, 0.52, 0.0, 0.08, 0.0, 0.0], [[1, 0, 1], 0.0, 0.0, 0.08, 0.04, 0.87, 0.02, 0.0, 0.0], [[0, 1, 1], 0.04, 0.0, 0.72, 0.0, 0.0, 0.12, 0.04, 0.08], [[1, 1, 1], 0.0, 0.52, 0.0, 0.09, 0.13, 0.09, 0.04, 0.13]]\n",
      "+-----------+-----------+-----------+-----------+-----------+-----------+-----------+-----------+-----------+\n",
      "|           | [0, 0, 0] | [1, 0, 0] | [0, 1, 0] | [1, 1, 0] | [0, 0, 1] | [1, 0, 1] | [0, 1, 1] | [1, 1, 1] |\n",
      "+-----------+-----------+-----------+-----------+-----------+-----------+-----------+-----------+-----------+\n",
      "| [0, 0, 0] |    0.0    |    0.17   |    0.0    |    0.06   |    0.0    |    0.0    |    0.06   |    0.72   |\n",
      "| [1, 0, 0] |    0.12   |    0.15   |    0.02   |    0.07   |    0.0    |    0.02   |    0.51   |    0.1    |\n",
      "| [0, 1, 0] |    0.0    |    0.08   |    0.02   |    0.06   |    0.02   |    0.8    |    0.02   |    0.0    |\n",
      "| [1, 1, 0] |    0.07   |    0.14   |    0.58   |    0.14   |    0.0    |    0.05   |    0.0    |    0.02   |\n",
      "| [0, 0, 1] |    0.19   |    0.21   |    0.0    |    0.52   |    0.0    |    0.08   |    0.0    |    0.0    |\n",
      "| [1, 0, 1] |    0.0    |    0.0    |    0.08   |    0.04   |    0.87   |    0.02   |    0.0    |    0.0    |\n",
      "| [0, 1, 1] |    0.04   |    0.0    |    0.72   |    0.0    |    0.0    |    0.12   |    0.04   |    0.08   |\n",
      "| [1, 1, 1] |    0.0    |    0.52   |    0.0    |    0.09   |    0.13   |    0.09   |    0.04   |    0.13   |\n",
      "+-----------+-----------+-----------+-----------+-----------+-----------+-----------+-----------+-----------+\n"
     ]
    }
   ],
   "source": [
    "from prettytable import PrettyTable\n",
    "tabla = PrettyTable()\n",
    "cabeceras = matriz_estados[0]\n",
    "tabla.field_names = cabeceras\n",
    "\n",
    "for fila in matriz_estados[1:]:\n",
    "    tabla.add_row(fila)\n",
    "print(matriz_estados)\n",
    "print(tabla)"
   ]
  },
  {
   "cell_type": "code",
   "execution_count": 60,
   "metadata": {},
   "outputs": [
    {
     "data": {
      "text/plain": [
       "['',\n",
       " [0, 0, 0],\n",
       " [1, 0, 0],\n",
       " [0, 1, 0],\n",
       " [1, 1, 0],\n",
       " [0, 0, 1],\n",
       " [1, 0, 1],\n",
       " [0, 1, 1],\n",
       " [1, 1, 1]]"
      ]
     },
     "execution_count": 60,
     "metadata": {},
     "output_type": "execute_result"
    }
   ],
   "source": [
    "def generar_matriz_con_canales(numero_canales):\n",
    "    matriz = [[int(bit) for bit in format(i, f'0{numero_canales}b')] for i in range(2 ** numero_canales)]\n",
    "    matriz_invertida = [list(reversed(fila)) for fila in matriz]\n",
    "    matriz_invertida.insert(0, \"\")\n",
    "    \n",
    "    return matriz_invertida\n",
    "\n",
    "numero_canales = 3\n",
    "matriz_resultante = generar_matriz_con_canales(numero_canales)\n",
    "matriz_resultante\n",
    "\n"
   ]
  },
  {
   "cell_type": "code",
   "execution_count": 61,
   "metadata": {},
   "outputs": [
    {
     "name": "stdout",
     "output_type": "stream",
     "text": [
      "[['0' '0' '0']\n",
      " ['0' '0' '1']\n",
      " ['0' '1' '0']\n",
      " ['0' '1' '1']\n",
      " ['1' '0' '0']\n",
      " ['1' '0' '1']\n",
      " ['1' '1' '0']\n",
      " ['1' '1' '1']]\n"
     ]
    }
   ],
   "source": [
    "import numpy as np\n",
    "\n",
    "def generar_matriz_con_canales(numero_canales):\n",
    "    lista_matriz = [  list(format(i, f'0{numero_canales}b')) for i in range(2 ** numero_canales)]\n",
    "    matriz = np.array(lista_matriz, dtype=object)\n",
    "    \n",
    "    return matriz\n",
    "\n",
    "numero_canales = 3\n",
    "matriz_resultante = generar_matriz_con_canales(numero_canales)\n",
    "print(matriz_resultante)\n",
    "\n"
   ]
  },
  {
   "cell_type": "code",
   "execution_count": 62,
   "metadata": {},
   "outputs": [
    {
     "name": "stdout",
     "output_type": "stream",
     "text": [
      "[[0, 0, 0], 0.17, 0.06, 0.0, 0.78]\n",
      "[[1, 0, 0], 0.27, 0.09, 0.02, 0.61]\n",
      "[[0, 1, 0], 0.08, 0.08, 0.82, 0.02]\n",
      "[[1, 1, 0], 0.21, 0.72, 0.05, 0.02]\n",
      "[[0, 0, 1], 0.4, 0.52, 0.08, 0.0]\n",
      "[[1, 0, 1], 0.0, 0.12, 0.89, 0.0]\n",
      "[[0, 1, 1], 0.04, 0.72, 0.12, 0.12]\n",
      "[[1, 1, 1], 0.52, 0.09, 0.22, 0.17]\n"
     ]
    }
   ],
   "source": [
    "def sumar_columnas(matriz):\n",
    "    # Verificar que la matriz no esté vacía\n",
    "    if not matriz:\n",
    "        return []\n",
    "\n",
    "    # Obtener la longitud de cada fila\n",
    "    longitud_fila = len(matriz[0])\n",
    "\n",
    "    # Verificar que todas las filas tengan la misma longitud\n",
    "    if any(len(fila) != longitud_fila for fila in matriz):\n",
    "        raise ValueError(\"Todas las filas deben tener la misma longitud\")\n",
    "\n",
    "    # Sumar las columnas de dos en dos (incluyendo la primera posición de cada fila) con redondeo a dos decimales\n",
    "    matriz_sumada = []\n",
    "    for fila in matriz:\n",
    "        fila_sumada = [fila[0], *([round(fila[i] + fila[i + 1], 2) if i + 1 < longitud_fila else fila[i] for i in range(1, longitud_fila - 1, 2)])]\n",
    "        matriz_sumada.append(fila_sumada)\n",
    "\n",
    "    return matriz_sumada\n",
    "\n",
    "# Ejemplo de uso:\n",
    "matriz_ejemplo = [[[0, 0, 0], 0.0, 0.17, 0.0, 0.06, 0.0, 0.0, 0.06, 0.72],\n",
    "                  [[1, 0, 0], 0.12, 0.15, 0.02, 0.07, 0.0, 0.02, 0.51, 0.1],\n",
    "                  [[0, 1, 0], 0.0, 0.08, 0.02, 0.06, 0.02, 0.8, 0.02, 0.0],\n",
    "                  [[1, 1, 0], 0.07, 0.14, 0.58, 0.14, 0.0, 0.05, 0.0, 0.02],\n",
    "                  [[0, 0, 1], 0.19, 0.21, 0.0, 0.52, 0.0, 0.08, 0.0, 0.0],\n",
    "                  [[1, 0, 1], 0.0, 0.0, 0.08, 0.04, 0.87, 0.02, 0.0, 0.0],\n",
    "                  [[0, 1, 1], 0.04, 0.0, 0.72, 0.0, 0.0, 0.12, 0.04, 0.08],\n",
    "                  [[1, 1, 1], 0.0, 0.52, 0.0, 0.09, 0.13, 0.09, 0.04, 0.13]]\n",
    "\n",
    "matriz_sumada = sumar_columnas(matriz_ejemplo)\n",
    "for fila in matriz_sumada:\n",
    "    print(fila)\n"
   ]
  },
  {
   "cell_type": "code",
   "execution_count": 63,
   "metadata": {},
   "outputs": [
    {
     "name": "stdout",
     "output_type": "stream",
     "text": [
      "[0, 0, 0]\n",
      "[1, 0, 0]\n",
      "[0, 1, 0]\n",
      "[1, 1, 0]\n",
      "[0, 0, 1]\n",
      "[1, 0, 1]\n",
      "[0, 1, 1]\n",
      "[1, 1, 1]\n"
     ]
    },
    {
     "data": {
      "text/plain": [
       "[['', [0, 0], [1, 0], [0, 1], [1, 1]],\n",
       " [[0], 0.61, 1.42, 1.09, 0.9],\n",
       " [[1], 1.08, 0.98, 1.11, 0.82]]"
      ]
     },
     "execution_count": 63,
     "metadata": {},
     "output_type": "execute_result"
    }
   ],
   "source": [
    "def eliminar_duplicados(fila):\n",
    "    lista_sin_duplicados = [item for i, item in enumerate(fila) if item not in fila[:i]]\n",
    "    return lista_sin_duplicados\n",
    "\n",
    "def mariginalizar_estado_futuro(matriz, canales, posicion=0):\n",
    "    if posicion > len(canales) - 1:\n",
    "        return matriz\n",
    "    if canales[posicion] not in [0,1,2]:\n",
    "        return ValueError(\"Canal no valido\")\n",
    "    fila_canales = matriz[0]\n",
    "    copy_matriz = matriz.copy()\n",
    "    nueva_fila_canales = [\"\"]\n",
    "\n",
    "    for canal in fila_canales:\n",
    "        if len(canal) > 0:\n",
    "            print(canal)\n",
    "            canal.remove(canal[canales[posicion]])\n",
    "            nueva_fila_canales.append(canal)\n",
    "    matriz_marginalizada = sumar_columnas(copy_matriz[1:])\n",
    "    matriz_marginalizada.insert(0, eliminar_duplicados(nueva_fila_canales))\n",
    "    return mariginalizar_estado_futuro(matriz_marginalizada, canales, posicion + 1)\n",
    "\n",
    "matriz_ejemplo = [[[],\n",
    "  [0, 0, 0],\n",
    "  [1, 0, 0],\n",
    "  [0, 1, 0],\n",
    "  [1, 1, 0],\n",
    "  [0, 0, 1],\n",
    "  [1, 0, 1],\n",
    "  [0, 1, 1],\n",
    "  [1, 1, 1]],\n",
    " [[0], 0.23, 0.38, 0.8, 0.62, 0.87, 0.22, 0.1, 0.8],\n",
    " [[1], 0.19, 0.89, 0.62, 0.36, 0.15, 0.96, 0.57, 0.25]] \n",
    "nueva_matriz = mariginalizar_estado_futuro(matriz_ejemplo, [1])\n",
    "\n",
    "nueva_matriz\n"
   ]
  },
  {
   "cell_type": "code",
   "execution_count": 64,
   "metadata": {},
   "outputs": [
    {
     "name": "stdout",
     "output_type": "stream",
     "text": [
      "([], [2], [1, 1])\n",
      "([0, 2], [0, 1], [1])\n"
     ]
    }
   ],
   "source": [
    "def procesar_cadena(cadena):\n",
    "    # Definir el mapeo de caracteres a números\n",
    "    mapeo = {'A': 0, 'B': 1, 'C': 2}\n",
    "\n",
    "    # Dividir la cadena en partes\n",
    "    partes = cadena.split('|')\n",
    "\n",
    "    # Obtener el estado futuro, estado actual y valor del estado actual\n",
    "    estado_futuro = [mapeo[c] for c in partes[0]]\n",
    "    estado_actual = [mapeo[c] for c in partes[1].split('=')[0]]\n",
    "    valor_estado_actual = [int(digito) for digito in partes[1].split('=')[1]]\n",
    "\n",
    "    # Calcular las letras que faltan en estado actual y futuro\n",
    "    letras_faltantes_actual = [i for i in range(3) if i not in estado_actual]\n",
    "    letras_faltantes_futuro = [i for i in range(3) if i not in estado_futuro]\n",
    "\n",
    "    return letras_faltantes_futuro, letras_faltantes_actual, valor_estado_actual\n",
    "\n",
    "# Ejemplos de uso\n",
    "cadena1 = \"ABC|AB=11\"\n",
    "resultado1 = procesar_cadena(cadena1)\n",
    "print(resultado1)\n",
    "\n",
    "cadena2 = \"B|C=1\"\n",
    "resultado2 = procesar_cadena(cadena2)\n",
    "print(resultado2)\n"
   ]
  },
  {
   "cell_type": "code",
   "execution_count": 141,
   "metadata": {},
   "outputs": [
    {
     "name": "stdout",
     "output_type": "stream",
     "text": [
      "1. ['|A=1', 'ABC|']\n",
      "2. ['A|', 'BC|A=1']\n",
      "3. ['A|A=1', 'BC|']\n",
      "4. ['B|', 'AC|A=1']\n",
      "5. ['B|A=1', 'AC|']\n",
      "6. ['C|', 'AB|A=1']\n",
      "7. ['C|A=1', 'AB|']\n",
      "8. ['AB|', 'C|A=1']\n",
      "9. ['AB|A=1', 'C|']\n",
      "10. ['AC|', 'B|A=1']\n",
      "11. ['AC|A=1', 'B|']\n",
      "12. ['BC|', 'A|A=1']\n",
      "13. ['BC|A=1', 'A|']\n",
      "14. ['ABC|', '|A=1']\n"
     ]
    }
   ],
   "source": [
    "from itertools import combinations\n",
    "\n",
    "def obtener_posiciones(letras, cadena_numerica):\n",
    "    posiciones_letras = [ord(letra) - 65 for letra in letras if 65 <= ord(letra) <= 90]\n",
    "    posiciones_cadena = ''.join([cadena_numerica[pos] for pos in posiciones_letras if pos < len(cadena_numerica)])\n",
    "    return posiciones_cadena\n",
    "\n",
    "\n",
    "def divide_expression(expression):\n",
    "    numerador, denominador = expression.split('|')\n",
    "    denominador, valor_numerico = denominador.split('=')\n",
    "    all_combinations = list()\n",
    "\n",
    "    for i in range(len(numerador) + 1):\n",
    "        for numerador_part in combinations(numerador, i):\n",
    "            numerador_remainder = ''.join([char for char in numerador if char not in numerador_part])\n",
    "\n",
    "            for j in range(len(denominador) + 1):\n",
    "                for denominador_part in combinations(denominador, j):\n",
    "                    denominador_remainder = ''.join([char for char in denominador if char not in denominador_part])\n",
    "                    combined_expression = list()\n",
    "                    denominador_part_sub = ''.join(denominador_part)\n",
    "                    combined_expression.append(f\"{''.join(numerador_part)}|{ denominador_part_sub + '=' + obtener_posiciones(denominador_part_sub, valor_numerico) if len(denominador_part) > 0 else denominador_part_sub}\")\n",
    "                    #print(len(''.join(denominador_part)), ''.join(denominador_part), combined_expression)\n",
    "                    combined_expression.append(f\"{numerador_remainder}|{denominador_remainder + '=' + obtener_posiciones(denominador_remainder, valor_numerico) if len(denominador_remainder) > 0 else denominador_remainder}\")\n",
    "                    if '|' != combined_expression[0] and '|' != combined_expression[1] and combined_expression[0] not in all_combinations and combined_expression[1] not in all_combinations:\n",
    "                        all_combinations.append(combined_expression)\n",
    "    #''.join(denominador_part) + '=' + obtener_posiciones(''.join(denominador_part), valor_numerico)\n",
    "    return all_combinations\n",
    "\n",
    "expression = \"ABC|A=100\" #BC = (1,(0,0)) BC|BC=00 y 0/A=1\n",
    "comb = divide_expression(expression)\n",
    "\n",
    "for i, combo in enumerate(comb, start=1):\n",
    "    print(f\"{i}. {combo}\")"
   ]
  },
  {
   "cell_type": "code",
   "execution_count": 66,
   "metadata": {},
   "outputs": [
    {
     "name": "stdout",
     "output_type": "stream",
     "text": [
      "A|C=0\n",
      "B|C=0\n"
     ]
    }
   ],
   "source": [
    "def obtener_combinaciones(cadena):\n",
    "    # Dividir la cadena en dos partes: la primera parte antes del '|' y la segunda parte después del '='\n",
    "    partes = cadena.split('|')\n",
    "    prefijo = partes[0]\n",
    "    sufijo_valor = partes[1]\n",
    "\n",
    "    # Dividir la segunda parte en dos: la parte antes del '=' y la parte después del '='\n",
    "    sufijo, valor = sufijo_valor.split('=')\n",
    "\n",
    "    # Crear la lista de combinaciones\n",
    "    combinaciones = [f\"{caracter}|{sufijo}={valor}\" for caracter in prefijo]\n",
    "\n",
    "    return combinaciones\n",
    "\n",
    "# Ejemplo de uso\n",
    "cadena = \"AB|C=0\"\n",
    "resultado = obtener_combinaciones(cadena)\n",
    "for x in resultado:\n",
    "    print(x)"
   ]
  },
  {
   "cell_type": "code",
   "execution_count": 67,
   "metadata": {},
   "outputs": [
    {
     "data": {
      "text/plain": [
       "[[[0], 1.68, 2.32]]"
      ]
     },
     "execution_count": 67,
     "metadata": {},
     "output_type": "execute_result"
    }
   ],
   "source": [
    "matriz = [['', [0], [1]], [[0], 1.68, 2.32]]\n",
    "sin_fila = matriz[1:]\n",
    "\n",
    "sin_fila"
   ]
  },
  {
   "cell_type": "code",
   "execution_count": 132,
   "metadata": {},
   "outputs": [
    {
     "name": "stdout",
     "output_type": "stream",
     "text": [
      "[['', [0, 0], [1, 0], [0, 0], [1, 0], [0, 1], [1, 1], [0, 1], [1, 1]],\n",
      " [[0, 0, 0], 0.0, 0.17, 0.0, 0.06, 0.0, 0.0, 0.06, 0.72],\n",
      " [[1, 0, 0], 0.12, 0.15, 0.02, 0.07, 0.0, 0.02, 0.51, 0.1],\n",
      " [[0, 1, 0], 0.0, 0.08, 0.02, 0.06, 0.02, 0.8, 0.02, 0.0],\n",
      " [[1, 1, 0], 0.07, 0.14, 0.58, 0.14, 0.0, 0.05, 0.0, 0.02],\n",
      " [[0, 0, 1], 0.19, 0.21, 0.0, 0.52, 0.0, 0.08, 0.0, 0.0],\n",
      " [[1, 0, 1], 0.0, 0.0, 0.08, 0.04, 0.87, 0.02, 0.0, 0.0],\n",
      " [[0, 1, 1], 0.04, 0.0, 0.72, 0.0, 0.0, 0.12, 0.04, 0.08],\n",
      " [[1, 1, 1], 0.0, 0.52, 0.0, 0.09, 0.13, 0.09, 0.04, 0.13]]\n"
     ]
    }
   ],
   "source": [
    "from copy import copy\n",
    "from pprint import pprint\n",
    "\n",
    "def mariginalizar_estado_futuro(matriz, canales, posicion=0):\n",
    "    if posicion > len(canales) - 1:\n",
    "        return matriz\n",
    "    if canales[posicion] not in [0, 1, 2]:\n",
    "        return ValueError(\"Canal no valido\")\n",
    "    copy_matriz = copy(matriz)\n",
    "    fila_canales = copy_matriz[0]\n",
    "    nueva_fila_canales = [\"\"]\n",
    "\n",
    "    for canal in fila_canales:\n",
    "        if len(canal) > 0:\n",
    "            canal.remove(canal[canales[posicion]])\n",
    "            nueva_fila_canales.append(canal)\n",
    "    matriz_marginalizada = copy_matriz[1:]\n",
    "    matriz_marginalizada.insert(0, nueva_fila_canales)\n",
    "    return mariginalizar_estado_futuro(matriz_marginalizada, canales, posicion + 1)\n",
    "\n",
    "matriz_ejemplo = [['', [0, 0, 0], [1, 0, 0], [0, 1, 0], [1, 1, 0], [0, 0, 1], [1, 0, 1], [0, 1, 1], [1, 1, 1]],\n",
    "                  [[0, 0, 0], 0.0, 0.17, 0.0, 0.06, 0.0, 0.0, 0.06, 0.72],\n",
    "                  [[1, 0, 0], 0.12, 0.15, 0.02, 0.07, 0.0, 0.02, 0.51, 0.1],\n",
    "                  [[0, 1, 0], 0.0, 0.08, 0.02, 0.06, 0.02, 0.8, 0.02, 0.0],\n",
    "                  [[1, 1, 0], 0.07, 0.14, 0.58, 0.14, 0.0, 0.05, 0.0, 0.02],\n",
    "                  [[0, 0, 1], 0.19, 0.21, 0.0, 0.52, 0.0, 0.08, 0.0, 0.0],\n",
    "                  [[1, 0, 1], 0.0, 0.0, 0.08, 0.04, 0.87, 0.02, 0.0, 0.0],\n",
    "                  [[0, 1, 1], 0.04, 0.0, 0.72, 0.0, 0.0, 0.12, 0.04, 0.08],\n",
    "                  [[1, 1, 1], 0.0, 0.52, 0.0, 0.09, 0.13, 0.09, 0.04, 0.13]]\n",
    "\n",
    "\n",
    "res = mariginalizar_estado_futuro(matriz_ejemplo, [1])\n",
    "\n",
    "pprint(res)"
   ]
  },
  {
   "cell_type": "code",
   "execution_count": 140,
   "metadata": {},
   "outputs": [
    {
     "data": {
      "text/plain": [
       "[[[], [0, 0], [1, 0], [0, 1], [1, 1]],\n",
       " [[0, 0, 0], 0.0, 0.23, 0.06, 0.72],\n",
       " [[1, 0, 0], 0.14, 0.22, 0.51, 0.12],\n",
       " [[0, 1, 0], 0.02, 0.14, 0.04, 0.8],\n",
       " [[1, 1, 0], 0.65, 0.28, 0.0, 0.07],\n",
       " [[0, 0, 1], 0.19, 0.73, 0.0, 0.08],\n",
       " [[1, 0, 1], 0.08, 0.04, 0.87, 0.02],\n",
       " [[0, 1, 1], 0.76, 0.0, 0.04, 0.2],\n",
       " [[1, 1, 1], 0.0, 0.61, 0.17, 0.22]]"
      ]
     },
     "execution_count": 140,
     "metadata": {},
     "output_type": "execute_result"
    }
   ],
   "source": [
    "def sumar_filas(matriz):\n",
    "    \"\"\"\n",
    "    Entrada: Una matriz en formato especial, donde cada fila tiene una clave (canal) y valores asociados.\n",
    "    Salida: Una nueva matriz después de sumar las filas con la misma clave.\n",
    "    \"\"\"\n",
    "    resultado = {}\n",
    "    copia_matriz = copy(matriz)\n",
    "\n",
    "    for fila in copia_matriz:\n",
    "        clave = tuple(fila[0])\n",
    "        if clave in resultado:\n",
    "            resultado[clave] = [\n",
    "                round(a + b, 2) for a, b in zip(resultado[clave], fila[1:])\n",
    "            ]\n",
    "        else:\n",
    "            resultado[clave] = fila[1:]\n",
    "\n",
    "    matriz_resultado = [\n",
    "        [[int(x) for x in key], *values] for key, values in resultado.items()\n",
    "    ]\n",
    "    return matriz_resultado\n",
    "\n",
    "def intercambiar_filas_columnas(matriz):\n",
    "    # Obtener el número de filas y columnas\n",
    "    num_filas = len(matriz)\n",
    "    num_columnas = len(matriz[0])\n",
    "\n",
    "    # Crear la nueva matriz intercambiando filas con columnas\n",
    "    nueva_matriz = [[matriz[j][i] for j in range(num_filas)] for i in range(num_columnas)]\n",
    "\n",
    "    return nueva_matriz\n",
    "def sumar_colums(matriz):\n",
    "    # Obtener el número de filas y columnas\n",
    "    num_filas = len(matriz)\n",
    "    num_columnas = len(matriz[0])\n",
    "\n",
    "    # Crear la nueva matriz intercambiando filas con columnas\n",
    "    nueva_matriz = [[matriz[j][i] for j in range(num_filas)] for i in range(num_columnas)]\n",
    "\n",
    "    suma_col = intercambiar_filas_columnas(sumar_filas(nueva_matriz))\n",
    "\n",
    "    return suma_col\n",
    "   \n",
    "\n",
    "\n",
    "matriz = [['', [0, 0], [1, 0], [0, 0], [1, 0], [0, 1], [1, 1], [0, 1], [1, 1]],\n",
    "        [[0, 0, 0], 0.0, 0.17, 0.0, 0.06, 0.0, 0.0, 0.06, 0.72],\n",
    "        [[1, 0, 0], 0.12, 0.15, 0.02, 0.07, 0.0, 0.02, 0.51, 0.1],\n",
    "        [[0, 1, 0], 0.0, 0.08, 0.02, 0.06, 0.02, 0.8, 0.02, 0.0],\n",
    "        [[1, 1, 0], 0.07, 0.14, 0.58, 0.14, 0.0, 0.05, 0.0, 0.02],\n",
    "        [[0, 0, 1], 0.19, 0.21, 0.0, 0.52, 0.0, 0.08, 0.0, 0.0],\n",
    "        [[1, 0, 1], 0.0, 0.0, 0.08, 0.04, 0.87, 0.02, 0.0, 0.0],\n",
    "        [[0, 1, 1], 0.04, 0.0, 0.72, 0.0, 0.0, 0.12, 0.04, 0.08],\n",
    "        [[1, 1, 1], 0.0, 0.52, 0.0, 0.09, 0.13, 0.09, 0.04, 0.13]]\n",
    "x = sumar_colums(matriz)\n",
    "x"
   ]
  },
  {
   "cell_type": "markdown",
   "metadata": {},
   "source": []
  }
 ],
 "metadata": {
  "kernelspec": {
   "display_name": ".venv",
   "language": "python",
   "name": "python3"
  },
  "language_info": {
   "codemirror_mode": {
    "name": "ipython",
    "version": 3
   },
   "file_extension": ".py",
   "mimetype": "text/x-python",
   "name": "python",
   "nbconvert_exporter": "python",
   "pygments_lexer": "ipython3",
   "version": "3.8.18"
  }
 },
 "nbformat": 4,
 "nbformat_minor": 2
}
